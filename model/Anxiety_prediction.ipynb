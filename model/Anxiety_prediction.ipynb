{
  "nbformat": 4,
  "nbformat_minor": 0,
  "metadata": {
    "colab": {
      "provenance": []
    },
    "kernelspec": {
      "name": "python3",
      "display_name": "Python 3"
    },
    "language_info": {
      "name": "python"
    }
  },
  "cells": [
    {
      "cell_type": "code",
      "execution_count": null,
      "metadata": {
        "id": "JlzGbkxl2emg"
      },
      "outputs": [],
      "source": [
        "import pandas as pd\n"
      ]
    },
    {
      "cell_type": "code",
      "source": [
        "df = pd.read_csv('/content/train_anxiety.csv')"
      ],
      "metadata": {
        "id": "Crr4egns2jf3"
      },
      "execution_count": null,
      "outputs": []
    },
    {
      "cell_type": "code",
      "source": [
        "df.head"
      ],
      "metadata": {
        "id": "_E6zHLFG3krm",
        "outputId": "9041b060-0b36-4f6d-b5fb-a562789b6a93",
        "colab": {
          "base_uri": "https://localhost:8080/"
        }
      },
      "execution_count": null,
      "outputs": [
        {
          "output_type": "execute_result",
          "data": {
            "text/plain": [
              "<bound method NDFrame.head of        EMPLOYEE ID  AGE  GENDER  Q1  Q2  Q3  Q4  Q5  Q6  Q7  STRESS VALUE  \\\n",
              "0        #fffffff1   26    Male   3   1   3   0   1   0   3             2   \n",
              "1        #fffffff2   29  Female   3   3   3   2   2   2   2             3   \n",
              "2        #fffffff3   30  Female   0   2   1   1   2   3   2             2   \n",
              "3        #fffffff4   31    Male   0   1   3   0   3   0   1             1   \n",
              "4        #fffffff5   34  Female   3   1   2   2   3   2   0             2   \n",
              "...            ...  ...     ...  ..  ..  ..  ..  ..  ..  ..           ...   \n",
              "2506  #fffffff2507   57  Female   2   1   1   2   0   2   1             1   \n",
              "2507  #fffffff2508   28  Female   2   2   3   0   0   0   0             1   \n",
              "2508  #fffffff2509   52    Male   1   0   2   3   0   3   0             1   \n",
              "2509  #fffffff2510   31    Male   0   2   0   3   1   1   2             1   \n",
              "2510  #fffffff2511   33  Female   0   1   0   3   2   2   0             1   \n",
              "\n",
              "      GAD SCORE  \n",
              "0            11  \n",
              "1            17  \n",
              "2            11  \n",
              "3             8  \n",
              "4            13  \n",
              "...         ...  \n",
              "2506          9  \n",
              "2507          7  \n",
              "2508          9  \n",
              "2509          9  \n",
              "2510          8  \n",
              "\n",
              "[2511 rows x 12 columns]>"
            ]
          },
          "metadata": {},
          "execution_count": 3
        }
      ]
    },
    {
      "cell_type": "code",
      "source": [
        "df.drop([\"EMPLOYEE ID\",\"GENDER\"],axis=1, inplace=True)"
      ],
      "metadata": {
        "id": "McEzoCiF3pa4"
      },
      "execution_count": null,
      "outputs": []
    },
    {
      "cell_type": "code",
      "source": [
        "df.head"
      ],
      "metadata": {
        "colab": {
          "base_uri": "https://localhost:8080/"
        },
        "id": "bKQFBo-Q4JEf",
        "outputId": "1c7c4892-37fe-40a9-9ad3-b35f95d1cdca"
      },
      "execution_count": null,
      "outputs": [
        {
          "output_type": "execute_result",
          "data": {
            "text/plain": [
              "<bound method NDFrame.head of       AGE  Q1  Q2  Q3  Q4  Q5  Q6  Q7  STRESS VALUE  GAD SCORE\n",
              "0      26   3   1   3   0   1   0   3             2         11\n",
              "1      29   3   3   3   2   2   2   2             3         17\n",
              "2      30   0   2   1   1   2   3   2             2         11\n",
              "3      31   0   1   3   0   3   0   1             1          8\n",
              "4      34   3   1   2   2   3   2   0             2         13\n",
              "...   ...  ..  ..  ..  ..  ..  ..  ..           ...        ...\n",
              "2506   57   2   1   1   2   0   2   1             1          9\n",
              "2507   28   2   2   3   0   0   0   0             1          7\n",
              "2508   52   1   0   2   3   0   3   0             1          9\n",
              "2509   31   0   2   0   3   1   1   2             1          9\n",
              "2510   33   0   1   0   3   2   2   0             1          8\n",
              "\n",
              "[2511 rows x 10 columns]>"
            ]
          },
          "metadata": {},
          "execution_count": 6
        }
      ]
    },
    {
      "cell_type": "code",
      "source": [
        "dataset = df.values"
      ],
      "metadata": {
        "id": "FZasZXFQ4KGB"
      },
      "execution_count": null,
      "outputs": []
    },
    {
      "cell_type": "code",
      "source": [
        "X = dataset[:,1:8]\n",
        "Y = dataset[:,8]"
      ],
      "metadata": {
        "id": "nXweVwCs4P8X"
      },
      "execution_count": null,
      "outputs": []
    },
    {
      "cell_type": "code",
      "source": [
        "Y"
      ],
      "metadata": {
        "colab": {
          "base_uri": "https://localhost:8080/"
        },
        "id": "aNn6bFla4ogS",
        "outputId": "7467fd76-b88f-4ff0-8c86-0f109a9bbc2d"
      },
      "execution_count": null,
      "outputs": [
        {
          "output_type": "execute_result",
          "data": {
            "text/plain": [
              "array([2, 3, 2, ..., 1, 1, 1])"
            ]
          },
          "metadata": {},
          "execution_count": 12
        }
      ]
    },
    {
      "cell_type": "code",
      "source": [
        "from sklearn.model_selection import train_test_split"
      ],
      "metadata": {
        "id": "PmmXgSaz4q37"
      },
      "execution_count": null,
      "outputs": []
    },
    {
      "cell_type": "code",
      "source": [
        "X_train , X_test , Y_train , Y_test = train_test_split(X,Y,test_size = 0.3)"
      ],
      "metadata": {
        "id": "YPMwobT449_V"
      },
      "execution_count": null,
      "outputs": []
    },
    {
      "cell_type": "code",
      "source": [
        "from keras.models import Sequential\n",
        "from keras.layers import Dense"
      ],
      "metadata": {
        "id": "0cyt1gp_5Rcy"
      },
      "execution_count": null,
      "outputs": []
    },
    {
      "cell_type": "code",
      "source": [
        "model = Sequential([Dense(32,activation = 'relu',input_shape=(7,)),\n",
        "                    Dense(32, activation = 'relu'),\n",
        "                    Dense(4,activation = 'softmax')\n",
        "                    ])"
      ],
      "metadata": {
        "id": "x8XKSTF75YTV"
      },
      "execution_count": null,
      "outputs": []
    },
    {
      "cell_type": "code",
      "source": [
        "import tensorflow as tf"
      ],
      "metadata": {
        "id": "PxL8_v3F6Oz3"
      },
      "execution_count": null,
      "outputs": []
    },
    {
      "cell_type": "code",
      "source": [
        "import numpy as np\n"
      ],
      "metadata": {
        "id": "0dDYevAA6QnI"
      },
      "execution_count": null,
      "outputs": []
    },
    {
      "cell_type": "code",
      "source": [
        "mgd = tf.keras.optimizers.SGD(learning_rate=0.01, momentum=0.9)"
      ],
      "metadata": {
        "id": "CgmquXiC6S_4"
      },
      "execution_count": 51,
      "outputs": []
    },
    {
      "cell_type": "code",
      "source": [
        "model.compile(optimizer=mgd,loss='sparse_categorical_crossentropy',metrics=['accuracy'])"
      ],
      "metadata": {
        "id": "n_lDT5Vx6jMQ"
      },
      "execution_count": 52,
      "outputs": []
    },
    {
      "cell_type": "code",
      "source": [
        "hist = model.fit(X_train,Y_train,batch_size=32,epochs=100)"
      ],
      "metadata": {
        "colab": {
          "base_uri": "https://localhost:8080/"
        },
        "id": "a24knPV26_3X",
        "outputId": "cd8ad23c-9d71-4174-cfaa-504521cd47e6"
      },
      "execution_count": 53,
      "outputs": [
        {
          "output_type": "stream",
          "name": "stdout",
          "text": [
            "Epoch 1/100\n",
            "55/55 [==============================] - 1s 2ms/step - loss: 0.0032 - accuracy: 1.0000\n",
            "Epoch 2/100\n",
            "55/55 [==============================] - 0s 2ms/step - loss: 0.0034 - accuracy: 1.0000\n",
            "Epoch 3/100\n",
            "55/55 [==============================] - 0s 2ms/step - loss: 0.0029 - accuracy: 1.0000\n",
            "Epoch 4/100\n",
            "55/55 [==============================] - 0s 2ms/step - loss: 0.0027 - accuracy: 1.0000\n",
            "Epoch 5/100\n",
            "55/55 [==============================] - 0s 2ms/step - loss: 0.0029 - accuracy: 1.0000\n",
            "Epoch 6/100\n",
            "55/55 [==============================] - 0s 2ms/step - loss: 0.0028 - accuracy: 1.0000\n",
            "Epoch 7/100\n",
            "55/55 [==============================] - 0s 2ms/step - loss: 0.0026 - accuracy: 1.0000\n",
            "Epoch 8/100\n",
            "55/55 [==============================] - 0s 2ms/step - loss: 0.0025 - accuracy: 1.0000\n",
            "Epoch 9/100\n",
            "55/55 [==============================] - 0s 2ms/step - loss: 0.0024 - accuracy: 1.0000\n",
            "Epoch 10/100\n",
            "55/55 [==============================] - 0s 2ms/step - loss: 0.0025 - accuracy: 1.0000\n",
            "Epoch 11/100\n",
            "55/55 [==============================] - 0s 2ms/step - loss: 0.0024 - accuracy: 1.0000\n",
            "Epoch 12/100\n",
            "55/55 [==============================] - 0s 2ms/step - loss: 0.0022 - accuracy: 1.0000\n",
            "Epoch 13/100\n",
            "55/55 [==============================] - 0s 2ms/step - loss: 0.0021 - accuracy: 1.0000\n",
            "Epoch 14/100\n",
            "55/55 [==============================] - 0s 2ms/step - loss: 0.0022 - accuracy: 1.0000\n",
            "Epoch 15/100\n",
            "55/55 [==============================] - 0s 2ms/step - loss: 0.0021 - accuracy: 1.0000\n",
            "Epoch 16/100\n",
            "55/55 [==============================] - 0s 2ms/step - loss: 0.0020 - accuracy: 1.0000\n",
            "Epoch 17/100\n",
            "55/55 [==============================] - 0s 2ms/step - loss: 0.0020 - accuracy: 1.0000\n",
            "Epoch 18/100\n",
            "55/55 [==============================] - 0s 2ms/step - loss: 0.0019 - accuracy: 1.0000\n",
            "Epoch 19/100\n",
            "55/55 [==============================] - 0s 2ms/step - loss: 0.0020 - accuracy: 1.0000\n",
            "Epoch 20/100\n",
            "55/55 [==============================] - 0s 2ms/step - loss: 0.0026 - accuracy: 1.0000\n",
            "Epoch 21/100\n",
            "55/55 [==============================] - 0s 2ms/step - loss: 0.0020 - accuracy: 1.0000\n",
            "Epoch 22/100\n",
            "55/55 [==============================] - 0s 2ms/step - loss: 0.0018 - accuracy: 1.0000\n",
            "Epoch 23/100\n",
            "55/55 [==============================] - 0s 2ms/step - loss: 0.0017 - accuracy: 1.0000\n",
            "Epoch 24/100\n",
            "55/55 [==============================] - 0s 2ms/step - loss: 0.0019 - accuracy: 1.0000\n",
            "Epoch 25/100\n",
            "55/55 [==============================] - 0s 2ms/step - loss: 0.0017 - accuracy: 1.0000\n",
            "Epoch 26/100\n",
            "55/55 [==============================] - 0s 2ms/step - loss: 0.0017 - accuracy: 1.0000\n",
            "Epoch 27/100\n",
            "55/55 [==============================] - 0s 2ms/step - loss: 0.0016 - accuracy: 1.0000\n",
            "Epoch 28/100\n",
            "55/55 [==============================] - 0s 2ms/step - loss: 0.0015 - accuracy: 1.0000\n",
            "Epoch 29/100\n",
            "55/55 [==============================] - 0s 2ms/step - loss: 0.0016 - accuracy: 1.0000\n",
            "Epoch 30/100\n",
            "55/55 [==============================] - 0s 2ms/step - loss: 0.0015 - accuracy: 1.0000\n",
            "Epoch 31/100\n",
            "55/55 [==============================] - 0s 2ms/step - loss: 0.0015 - accuracy: 1.0000\n",
            "Epoch 32/100\n",
            "55/55 [==============================] - 0s 6ms/step - loss: 0.0014 - accuracy: 1.0000\n",
            "Epoch 33/100\n",
            "55/55 [==============================] - 0s 6ms/step - loss: 0.0015 - accuracy: 1.0000\n",
            "Epoch 34/100\n",
            "55/55 [==============================] - 0s 4ms/step - loss: 0.0015 - accuracy: 1.0000\n",
            "Epoch 35/100\n",
            "55/55 [==============================] - 0s 3ms/step - loss: 0.0014 - accuracy: 1.0000\n",
            "Epoch 36/100\n",
            "55/55 [==============================] - 0s 3ms/step - loss: 0.0014 - accuracy: 1.0000\n",
            "Epoch 37/100\n",
            "55/55 [==============================] - 0s 4ms/step - loss: 0.0013 - accuracy: 1.0000\n",
            "Epoch 38/100\n",
            "55/55 [==============================] - 0s 3ms/step - loss: 0.0013 - accuracy: 1.0000\n",
            "Epoch 39/100\n",
            "55/55 [==============================] - 0s 3ms/step - loss: 0.0014 - accuracy: 1.0000\n",
            "Epoch 40/100\n",
            "55/55 [==============================] - 0s 3ms/step - loss: 0.0013 - accuracy: 1.0000\n",
            "Epoch 41/100\n",
            "55/55 [==============================] - 0s 3ms/step - loss: 0.0013 - accuracy: 1.0000\n",
            "Epoch 42/100\n",
            "55/55 [==============================] - 0s 3ms/step - loss: 0.0012 - accuracy: 1.0000\n",
            "Epoch 43/100\n",
            "55/55 [==============================] - 0s 3ms/step - loss: 0.0012 - accuracy: 1.0000\n",
            "Epoch 44/100\n",
            "55/55 [==============================] - 0s 3ms/step - loss: 0.0012 - accuracy: 1.0000\n",
            "Epoch 45/100\n",
            "55/55 [==============================] - 0s 3ms/step - loss: 0.0012 - accuracy: 1.0000\n",
            "Epoch 46/100\n",
            "55/55 [==============================] - 0s 3ms/step - loss: 0.0012 - accuracy: 1.0000\n",
            "Epoch 47/100\n",
            "55/55 [==============================] - 0s 3ms/step - loss: 0.0012 - accuracy: 1.0000\n",
            "Epoch 48/100\n",
            "55/55 [==============================] - 0s 4ms/step - loss: 0.0011 - accuracy: 1.0000\n",
            "Epoch 49/100\n",
            "55/55 [==============================] - 0s 4ms/step - loss: 0.0011 - accuracy: 1.0000\n",
            "Epoch 50/100\n",
            "55/55 [==============================] - 0s 2ms/step - loss: 0.0011 - accuracy: 1.0000\n",
            "Epoch 51/100\n",
            "55/55 [==============================] - 0s 2ms/step - loss: 0.0011 - accuracy: 1.0000\n",
            "Epoch 52/100\n",
            "55/55 [==============================] - 0s 2ms/step - loss: 0.0011 - accuracy: 1.0000\n",
            "Epoch 53/100\n",
            "55/55 [==============================] - 0s 2ms/step - loss: 0.0011 - accuracy: 1.0000\n",
            "Epoch 54/100\n",
            "55/55 [==============================] - 0s 2ms/step - loss: 0.0011 - accuracy: 1.0000\n",
            "Epoch 55/100\n",
            "55/55 [==============================] - 0s 2ms/step - loss: 0.0011 - accuracy: 1.0000\n",
            "Epoch 56/100\n",
            "55/55 [==============================] - 0s 2ms/step - loss: 0.0010 - accuracy: 1.0000\n",
            "Epoch 57/100\n",
            "55/55 [==============================] - 0s 2ms/step - loss: 9.7362e-04 - accuracy: 1.0000\n",
            "Epoch 58/100\n",
            "55/55 [==============================] - 0s 2ms/step - loss: 0.0010 - accuracy: 1.0000\n",
            "Epoch 59/100\n",
            "55/55 [==============================] - 0s 2ms/step - loss: 9.5606e-04 - accuracy: 1.0000\n",
            "Epoch 60/100\n",
            "55/55 [==============================] - 0s 2ms/step - loss: 9.8482e-04 - accuracy: 1.0000\n",
            "Epoch 61/100\n",
            "55/55 [==============================] - 0s 2ms/step - loss: 9.5208e-04 - accuracy: 1.0000\n",
            "Epoch 62/100\n",
            "55/55 [==============================] - 0s 2ms/step - loss: 9.6759e-04 - accuracy: 1.0000\n",
            "Epoch 63/100\n",
            "55/55 [==============================] - 0s 2ms/step - loss: 9.3603e-04 - accuracy: 1.0000\n",
            "Epoch 64/100\n",
            "55/55 [==============================] - 0s 2ms/step - loss: 9.0341e-04 - accuracy: 1.0000\n",
            "Epoch 65/100\n",
            "55/55 [==============================] - 0s 2ms/step - loss: 8.7822e-04 - accuracy: 1.0000\n",
            "Epoch 66/100\n",
            "55/55 [==============================] - 0s 2ms/step - loss: 8.8756e-04 - accuracy: 1.0000\n",
            "Epoch 67/100\n",
            "55/55 [==============================] - 0s 2ms/step - loss: 8.9340e-04 - accuracy: 1.0000\n",
            "Epoch 68/100\n",
            "55/55 [==============================] - 0s 2ms/step - loss: 8.5726e-04 - accuracy: 1.0000\n",
            "Epoch 69/100\n",
            "55/55 [==============================] - 0s 2ms/step - loss: 8.4051e-04 - accuracy: 1.0000\n",
            "Epoch 70/100\n",
            "55/55 [==============================] - 0s 2ms/step - loss: 8.4096e-04 - accuracy: 1.0000\n",
            "Epoch 71/100\n",
            "55/55 [==============================] - 0s 2ms/step - loss: 8.1747e-04 - accuracy: 1.0000\n",
            "Epoch 72/100\n",
            "55/55 [==============================] - 0s 2ms/step - loss: 8.1810e-04 - accuracy: 1.0000\n",
            "Epoch 73/100\n",
            "55/55 [==============================] - 0s 2ms/step - loss: 8.6783e-04 - accuracy: 1.0000\n",
            "Epoch 74/100\n",
            "55/55 [==============================] - 0s 2ms/step - loss: 7.9759e-04 - accuracy: 1.0000\n",
            "Epoch 75/100\n",
            "55/55 [==============================] - 0s 2ms/step - loss: 8.0635e-04 - accuracy: 1.0000\n",
            "Epoch 76/100\n",
            "55/55 [==============================] - 0s 2ms/step - loss: 8.1297e-04 - accuracy: 1.0000\n",
            "Epoch 77/100\n",
            "55/55 [==============================] - 0s 2ms/step - loss: 8.0569e-04 - accuracy: 1.0000\n",
            "Epoch 78/100\n",
            "55/55 [==============================] - 0s 2ms/step - loss: 8.1180e-04 - accuracy: 1.0000\n",
            "Epoch 79/100\n",
            "55/55 [==============================] - 0s 2ms/step - loss: 7.5056e-04 - accuracy: 1.0000\n",
            "Epoch 80/100\n",
            "55/55 [==============================] - 0s 2ms/step - loss: 7.9606e-04 - accuracy: 1.0000\n",
            "Epoch 81/100\n",
            "55/55 [==============================] - 0s 2ms/step - loss: 7.6393e-04 - accuracy: 1.0000\n",
            "Epoch 82/100\n",
            "55/55 [==============================] - 0s 2ms/step - loss: 7.6262e-04 - accuracy: 1.0000\n",
            "Epoch 83/100\n",
            "55/55 [==============================] - 0s 2ms/step - loss: 7.2792e-04 - accuracy: 1.0000\n",
            "Epoch 84/100\n",
            "55/55 [==============================] - 0s 3ms/step - loss: 7.5841e-04 - accuracy: 1.0000\n",
            "Epoch 85/100\n",
            "55/55 [==============================] - 0s 2ms/step - loss: 7.2557e-04 - accuracy: 1.0000\n",
            "Epoch 86/100\n",
            "55/55 [==============================] - 0s 2ms/step - loss: 7.1071e-04 - accuracy: 1.0000\n",
            "Epoch 87/100\n",
            "55/55 [==============================] - 0s 2ms/step - loss: 7.1431e-04 - accuracy: 1.0000\n",
            "Epoch 88/100\n",
            "55/55 [==============================] - 0s 2ms/step - loss: 7.0735e-04 - accuracy: 1.0000\n",
            "Epoch 89/100\n",
            "55/55 [==============================] - 0s 2ms/step - loss: 7.0432e-04 - accuracy: 1.0000\n",
            "Epoch 90/100\n",
            "55/55 [==============================] - 0s 2ms/step - loss: 6.7520e-04 - accuracy: 1.0000\n",
            "Epoch 91/100\n",
            "55/55 [==============================] - 0s 2ms/step - loss: 6.6932e-04 - accuracy: 1.0000\n",
            "Epoch 92/100\n",
            "55/55 [==============================] - 0s 2ms/step - loss: 6.7017e-04 - accuracy: 1.0000\n",
            "Epoch 93/100\n",
            "55/55 [==============================] - 0s 2ms/step - loss: 6.8510e-04 - accuracy: 1.0000\n",
            "Epoch 94/100\n",
            "55/55 [==============================] - 0s 3ms/step - loss: 6.7152e-04 - accuracy: 1.0000\n",
            "Epoch 95/100\n",
            "55/55 [==============================] - 0s 2ms/step - loss: 6.8335e-04 - accuracy: 1.0000\n",
            "Epoch 96/100\n",
            "55/55 [==============================] - 0s 2ms/step - loss: 6.7196e-04 - accuracy: 1.0000\n",
            "Epoch 97/100\n",
            "55/55 [==============================] - 0s 2ms/step - loss: 6.5488e-04 - accuracy: 1.0000\n",
            "Epoch 98/100\n",
            "55/55 [==============================] - 0s 2ms/step - loss: 6.6622e-04 - accuracy: 1.0000\n",
            "Epoch 99/100\n",
            "55/55 [==============================] - 0s 2ms/step - loss: 6.5648e-04 - accuracy: 1.0000\n",
            "Epoch 100/100\n",
            "55/55 [==============================] - 0s 2ms/step - loss: 6.2912e-04 - accuracy: 1.0000\n"
          ]
        }
      ]
    },
    {
      "cell_type": "code",
      "source": [
        "model.evaluate(X_test,Y_test)[1]"
      ],
      "metadata": {
        "colab": {
          "base_uri": "https://localhost:8080/"
        },
        "id": "1jfEJaeJ7GZh",
        "outputId": "3eb77b01-cf88-4afa-d51c-72fd99ee84ec"
      },
      "execution_count": 54,
      "outputs": [
        {
          "output_type": "stream",
          "name": "stdout",
          "text": [
            "24/24 [==============================] - 0s 2ms/step - loss: 9.6133e-04 - accuracy: 1.0000\n"
          ]
        },
        {
          "output_type": "execute_result",
          "data": {
            "text/plain": [
              "1.0"
            ]
          },
          "metadata": {},
          "execution_count": 54
        }
      ]
    },
    {
      "cell_type": "code",
      "source": [
        "X_test[3:4]"
      ],
      "metadata": {
        "colab": {
          "base_uri": "https://localhost:8080/"
        },
        "id": "u3C9YNZA9Pxo",
        "outputId": "09e40fc4-a09d-4a7f-94d0-84dce29fe617"
      },
      "execution_count": null,
      "outputs": [
        {
          "output_type": "execute_result",
          "data": {
            "text/plain": [
              "array([[3, 2, 0, 0, 2, 2, 1]])"
            ]
          },
          "metadata": {},
          "execution_count": 25
        }
      ]
    },
    {
      "cell_type": "code",
      "source": [
        "tt = np.array([[2,1,3,1,0,1,3]])"
      ],
      "metadata": {
        "id": "dpt_CW3D9Udm"
      },
      "execution_count": null,
      "outputs": []
    },
    {
      "cell_type": "code",
      "source": [
        "pred = model.predict(tt)"
      ],
      "metadata": {
        "colab": {
          "base_uri": "https://localhost:8080/"
        },
        "id": "1Cht-I0O-vXz",
        "outputId": "d32b0ec6-c171-49cf-bfdd-f9af71e21047"
      },
      "execution_count": null,
      "outputs": [
        {
          "output_type": "stream",
          "name": "stdout",
          "text": [
            "1/1 [==============================] - 0s 25ms/step\n"
          ]
        }
      ]
    },
    {
      "cell_type": "code",
      "source": [
        "pred.shape"
      ],
      "metadata": {
        "colab": {
          "base_uri": "https://localhost:8080/"
        },
        "id": "e2EH3ZBf-3Oa",
        "outputId": "64aee6e2-8d23-43a3-c8d0-b2f710b6b16c"
      },
      "execution_count": null,
      "outputs": [
        {
          "output_type": "execute_result",
          "data": {
            "text/plain": [
              "(1, 4)"
            ]
          },
          "metadata": {},
          "execution_count": 35
        }
      ]
    },
    {
      "cell_type": "code",
      "source": [
        "pred"
      ],
      "metadata": {
        "colab": {
          "base_uri": "https://localhost:8080/"
        },
        "id": "j0CDkOEW-5nd",
        "outputId": "87e1af82-e36a-432e-e1e8-0985c006634f"
      },
      "execution_count": null,
      "outputs": [
        {
          "output_type": "execute_result",
          "data": {
            "text/plain": [
              "array([[1.1657359e-19, 9.0670566e-10, 1.0000000e+00, 2.9634674e-13]],\n",
              "      dtype=float32)"
            ]
          },
          "metadata": {},
          "execution_count": 36
        }
      ]
    },
    {
      "cell_type": "code",
      "source": [
        "import pickle\n",
        "pickle.dump(model,open('anx_model.pkl','wb'))"
      ],
      "metadata": {
        "id": "-oJyTxAj-7t7"
      },
      "execution_count": 61,
      "outputs": []
    },
    {
      "cell_type": "code",
      "source": [
        "a_model = pickle.load(open('anx_model.pkl','rb'))"
      ],
      "metadata": {
        "id": "wbm1-Ea7GNY5"
      },
      "execution_count": 62,
      "outputs": []
    },
    {
      "cell_type": "code",
      "source": [
        "a_model.predict(tt)"
      ],
      "metadata": {
        "colab": {
          "base_uri": "https://localhost:8080/"
        },
        "id": "6YChVoKvEp6_",
        "outputId": "808e17e7-2e78-4ecb-9e0f-ced612624c0b"
      },
      "execution_count": 63,
      "outputs": [
        {
          "output_type": "stream",
          "name": "stdout",
          "text": [
            "1/1 [==============================] - 0s 72ms/step\n"
          ]
        },
        {
          "output_type": "execute_result",
          "data": {
            "text/plain": [
              "array([[4.0255316e-25, 7.9386039e-11, 1.0000000e+00, 4.1833514e-18]],\n",
              "      dtype=float32)"
            ]
          },
          "metadata": {},
          "execution_count": 63
        }
      ]
    }
  ]
}