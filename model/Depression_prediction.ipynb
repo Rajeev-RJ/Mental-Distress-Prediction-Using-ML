{
  "nbformat": 4,
  "nbformat_minor": 0,
  "metadata": {
    "colab": {
      "provenance": []
    },
    "kernelspec": {
      "name": "python3",
      "display_name": "Python 3"
    },
    "language_info": {
      "name": "python"
    }
  },
  "cells": [
    {
      "cell_type": "code",
      "execution_count": 1,
      "metadata": {
        "id": "fQuY8WPeHJf7"
      },
      "outputs": [],
      "source": [
        "import pandas as pd\n",
        "import tensorflow as tf\n",
        "import numpy as np"
      ]
    },
    {
      "cell_type": "code",
      "source": [
        "df = pd.read_csv('/content/train_depression.csv')"
      ],
      "metadata": {
        "id": "ex49nMUpHwgy"
      },
      "execution_count": 2,
      "outputs": []
    },
    {
      "cell_type": "code",
      "source": [
        "df.head"
      ],
      "metadata": {
        "colab": {
          "base_uri": "https://localhost:8080/"
        },
        "id": "gEF5CI02H3PI",
        "outputId": "6056ff2a-7c5d-427a-9601-90fc6a98527a"
      },
      "execution_count": 3,
      "outputs": [
        {
          "output_type": "execute_result",
          "data": {
            "text/plain": [
              "<bound method NDFrame.head of        EMPLOYEE ID  AGE  GENDER  Q1  Q2  Q3  Q4  Q5  Q6  Q7  Q8  Q9  \\\n",
              "0        #fffffff1   27    Male   3   0   1   0   2   3   2   0   1   \n",
              "1        #fffffff2   36    Male   3   1   1   3   3   0   1   1   2   \n",
              "2        #fffffff3   25    Male   2   1   2   1   3   2   0   0   3   \n",
              "3        #fffffff4   30    Male   0   3   0   3   0   2   0   1   2   \n",
              "4        #fffffff5   61    Male   2   0   1   3   2   1   0   1   0   \n",
              "...            ...  ...     ...  ..  ..  ..  ..  ..  ..  ..  ..  ..   \n",
              "2495  #fffffff2496   64  Female   2   3   2   0   2   1   3   1   0   \n",
              "2496  #fffffff2497   30    Male   1   2   2   1   1   1   2   3   1   \n",
              "2497  #fffffff2498   28    Male   0   0   3   2   3   1   0   3   0   \n",
              "2498  #fffffff2499   40    Male   0   0   1   0   1   2   3   0   1   \n",
              "2499  #fffffff2500   46    Male   1   1   2   2   1   1   0   2   1   \n",
              "\n",
              "      STRESS VALUE  PHQ SCORE  \n",
              "0                2         12  \n",
              "1                3         15  \n",
              "2                2         14  \n",
              "3                2         11  \n",
              "4                2         10  \n",
              "...            ...        ...  \n",
              "2495             2         14  \n",
              "2496             2         14  \n",
              "2497             2         12  \n",
              "2498             1          8  \n",
              "2499             2         11  \n",
              "\n",
              "[2500 rows x 14 columns]>"
            ]
          },
          "metadata": {},
          "execution_count": 3
        }
      ]
    },
    {
      "cell_type": "code",
      "source": [
        "df.drop(['EMPLOYEE ID','GENDER'],axis=1,inplace = True) "
      ],
      "metadata": {
        "id": "W4Sr4dMPH4QQ"
      },
      "execution_count": 4,
      "outputs": []
    },
    {
      "cell_type": "code",
      "source": [
        "df.head"
      ],
      "metadata": {
        "colab": {
          "base_uri": "https://localhost:8080/"
        },
        "id": "-4B_1VgoIakv",
        "outputId": "7687ff54-7d5d-4ea5-bd39-f779f50cecb3"
      },
      "execution_count": 5,
      "outputs": [
        {
          "output_type": "execute_result",
          "data": {
            "text/plain": [
              "<bound method NDFrame.head of       AGE  Q1  Q2  Q3  Q4  Q5  Q6  Q7  Q8  Q9  STRESS VALUE  PHQ SCORE\n",
              "0      27   3   0   1   0   2   3   2   0   1             2         12\n",
              "1      36   3   1   1   3   3   0   1   1   2             3         15\n",
              "2      25   2   1   2   1   3   2   0   0   3             2         14\n",
              "3      30   0   3   0   3   0   2   0   1   2             2         11\n",
              "4      61   2   0   1   3   2   1   0   1   0             2         10\n",
              "...   ...  ..  ..  ..  ..  ..  ..  ..  ..  ..           ...        ...\n",
              "2495   64   2   3   2   0   2   1   3   1   0             2         14\n",
              "2496   30   1   2   2   1   1   1   2   3   1             2         14\n",
              "2497   28   0   0   3   2   3   1   0   3   0             2         12\n",
              "2498   40   0   0   1   0   1   2   3   0   1             1          8\n",
              "2499   46   1   1   2   2   1   1   0   2   1             2         11\n",
              "\n",
              "[2500 rows x 12 columns]>"
            ]
          },
          "metadata": {},
          "execution_count": 5
        }
      ]
    },
    {
      "cell_type": "code",
      "source": [
        "dataset = df.values"
      ],
      "metadata": {
        "id": "j2hJ4-A6IblK"
      },
      "execution_count": 6,
      "outputs": []
    },
    {
      "cell_type": "code",
      "source": [
        "X  = dataset[:,1:10]\n",
        "Y = dataset[:,10]"
      ],
      "metadata": {
        "id": "guJb-7FmIfEM"
      },
      "execution_count": 7,
      "outputs": []
    },
    {
      "cell_type": "code",
      "source": [
        "X"
      ],
      "metadata": {
        "colab": {
          "base_uri": "https://localhost:8080/"
        },
        "id": "ENjkH84tI88u",
        "outputId": "8dba6ebc-4310-4211-b8d2-0510539eb2b0"
      },
      "execution_count": 8,
      "outputs": [
        {
          "output_type": "execute_result",
          "data": {
            "text/plain": [
              "array([[3, 0, 1, ..., 2, 0, 1],\n",
              "       [3, 1, 1, ..., 1, 1, 2],\n",
              "       [2, 1, 2, ..., 0, 0, 3],\n",
              "       ...,\n",
              "       [0, 0, 3, ..., 0, 3, 0],\n",
              "       [0, 0, 1, ..., 3, 0, 1],\n",
              "       [1, 1, 2, ..., 0, 2, 1]])"
            ]
          },
          "metadata": {},
          "execution_count": 8
        }
      ]
    },
    {
      "cell_type": "code",
      "source": [
        "Y"
      ],
      "metadata": {
        "colab": {
          "base_uri": "https://localhost:8080/"
        },
        "id": "AYODEulMI9wC",
        "outputId": "420c3e07-637b-4c22-91da-203286f75f5d"
      },
      "execution_count": 9,
      "outputs": [
        {
          "output_type": "execute_result",
          "data": {
            "text/plain": [
              "array([2, 3, 2, ..., 2, 1, 2])"
            ]
          },
          "metadata": {},
          "execution_count": 9
        }
      ]
    },
    {
      "cell_type": "code",
      "source": [
        "from sklearn.model_selection import train_test_split\n",
        "X_train ,X_test, Y_train, Y_test = train_test_split(X,Y,test_size = 0.3)"
      ],
      "metadata": {
        "id": "xxlw3OtSI-2d"
      },
      "execution_count": 10,
      "outputs": []
    },
    {
      "cell_type": "code",
      "source": [
        "from keras.models import Sequential\n",
        "from keras.layers import Dense"
      ],
      "metadata": {
        "id": "c5R6AQngJ6o9"
      },
      "execution_count": 15,
      "outputs": []
    },
    {
      "cell_type": "code",
      "source": [
        "dep_model = Sequential([ Dense(32,activation='relu',input_shape = (9,)),\n",
        "                        Dense(32,activation = 'relu'),\n",
        "                        Dense(5, activation = 'softmax')])"
      ],
      "metadata": {
        "id": "D-IfchshJ78H"
      },
      "execution_count": 16,
      "outputs": []
    },
    {
      "cell_type": "code",
      "source": [
        "mgd = tf.keras.optimizers.SGD(learning_rate=0.01, momentum=0.9)"
      ],
      "metadata": {
        "id": "JcqrQxcVLD48"
      },
      "execution_count": 17,
      "outputs": []
    },
    {
      "cell_type": "code",
      "source": [
        "dep_model.compile(optimizer=mgd,loss='sparse_categorical_crossentropy',metrics=['accuracy'])"
      ],
      "metadata": {
        "id": "Kp0qnPSlLNJU"
      },
      "execution_count": 18,
      "outputs": []
    },
    {
      "cell_type": "code",
      "source": [
        "hist = dep_model.fit(X_train,Y_train,batch_size=32,epochs=100)"
      ],
      "metadata": {
        "colab": {
          "base_uri": "https://localhost:8080/"
        },
        "id": "qtpxHVQPLdf6",
        "outputId": "d637acac-17fd-4142-a4f4-fe5498b4ae82"
      },
      "execution_count": 19,
      "outputs": [
        {
          "output_type": "stream",
          "name": "stdout",
          "text": [
            "Epoch 1/100\n",
            "55/55 [==============================] - 1s 2ms/step - loss: 1.1409 - accuracy: 0.4909\n",
            "Epoch 2/100\n",
            "55/55 [==============================] - 0s 2ms/step - loss: 0.9699 - accuracy: 0.6166\n",
            "Epoch 3/100\n",
            "55/55 [==============================] - 0s 2ms/step - loss: 0.8738 - accuracy: 0.6480\n",
            "Epoch 4/100\n",
            "55/55 [==============================] - 0s 2ms/step - loss: 0.7357 - accuracy: 0.7149\n",
            "Epoch 5/100\n",
            "55/55 [==============================] - 0s 2ms/step - loss: 0.6064 - accuracy: 0.7606\n",
            "Epoch 6/100\n",
            "55/55 [==============================] - 0s 2ms/step - loss: 0.5187 - accuracy: 0.7983\n",
            "Epoch 7/100\n",
            "55/55 [==============================] - 0s 2ms/step - loss: 0.4354 - accuracy: 0.8480\n",
            "Epoch 8/100\n",
            "55/55 [==============================] - 0s 2ms/step - loss: 0.3913 - accuracy: 0.8640\n",
            "Epoch 9/100\n",
            "55/55 [==============================] - 0s 2ms/step - loss: 0.3635 - accuracy: 0.8611\n",
            "Epoch 10/100\n",
            "55/55 [==============================] - 0s 2ms/step - loss: 0.3341 - accuracy: 0.8697\n",
            "Epoch 11/100\n",
            "55/55 [==============================] - 0s 2ms/step - loss: 0.2838 - accuracy: 0.9034\n",
            "Epoch 12/100\n",
            "55/55 [==============================] - 0s 2ms/step - loss: 0.2721 - accuracy: 0.8994\n",
            "Epoch 13/100\n",
            "55/55 [==============================] - 0s 2ms/step - loss: 0.2228 - accuracy: 0.9349\n",
            "Epoch 14/100\n",
            "55/55 [==============================] - 0s 2ms/step - loss: 0.2504 - accuracy: 0.9029\n",
            "Epoch 15/100\n",
            "55/55 [==============================] - 0s 2ms/step - loss: 0.2149 - accuracy: 0.9257\n",
            "Epoch 16/100\n",
            "55/55 [==============================] - 0s 2ms/step - loss: 0.2987 - accuracy: 0.8891\n",
            "Epoch 17/100\n",
            "55/55 [==============================] - 0s 2ms/step - loss: 0.2807 - accuracy: 0.8840\n",
            "Epoch 18/100\n",
            "55/55 [==============================] - 0s 2ms/step - loss: 0.2121 - accuracy: 0.9171\n",
            "Epoch 19/100\n",
            "55/55 [==============================] - 0s 2ms/step - loss: 0.1514 - accuracy: 0.9657\n",
            "Epoch 20/100\n",
            "55/55 [==============================] - 0s 2ms/step - loss: 0.1633 - accuracy: 0.9429\n",
            "Epoch 21/100\n",
            "55/55 [==============================] - 0s 2ms/step - loss: 0.1771 - accuracy: 0.9389\n",
            "Epoch 22/100\n",
            "55/55 [==============================] - 0s 2ms/step - loss: 0.1154 - accuracy: 0.9714\n",
            "Epoch 23/100\n",
            "55/55 [==============================] - 0s 2ms/step - loss: 0.1160 - accuracy: 0.9657\n",
            "Epoch 24/100\n",
            "55/55 [==============================] - 0s 2ms/step - loss: 0.1649 - accuracy: 0.9377\n",
            "Epoch 25/100\n",
            "55/55 [==============================] - 0s 2ms/step - loss: 0.1737 - accuracy: 0.9326\n",
            "Epoch 26/100\n",
            "55/55 [==============================] - 0s 3ms/step - loss: 0.1305 - accuracy: 0.9526\n",
            "Epoch 27/100\n",
            "55/55 [==============================] - 0s 3ms/step - loss: 0.0974 - accuracy: 0.9771\n",
            "Epoch 28/100\n",
            "55/55 [==============================] - 0s 2ms/step - loss: 0.1228 - accuracy: 0.9600\n",
            "Epoch 29/100\n",
            "55/55 [==============================] - 0s 2ms/step - loss: 0.1868 - accuracy: 0.9194\n",
            "Epoch 30/100\n",
            "55/55 [==============================] - 0s 3ms/step - loss: 0.1631 - accuracy: 0.9303\n",
            "Epoch 31/100\n",
            "55/55 [==============================] - 0s 2ms/step - loss: 0.2626 - accuracy: 0.8971\n",
            "Epoch 32/100\n",
            "55/55 [==============================] - 0s 2ms/step - loss: 0.1410 - accuracy: 0.9440\n",
            "Epoch 33/100\n",
            "55/55 [==============================] - 0s 2ms/step - loss: 0.0982 - accuracy: 0.9709\n",
            "Epoch 34/100\n",
            "55/55 [==============================] - 0s 3ms/step - loss: 0.1472 - accuracy: 0.9394\n",
            "Epoch 35/100\n",
            "55/55 [==============================] - 0s 2ms/step - loss: 0.2916 - accuracy: 0.9017\n",
            "Epoch 36/100\n",
            "55/55 [==============================] - 0s 2ms/step - loss: 0.1285 - accuracy: 0.9531\n",
            "Epoch 37/100\n",
            "55/55 [==============================] - 0s 2ms/step - loss: 0.0963 - accuracy: 0.9651\n",
            "Epoch 38/100\n",
            "55/55 [==============================] - 0s 2ms/step - loss: 0.1013 - accuracy: 0.9594\n",
            "Epoch 39/100\n",
            "55/55 [==============================] - 0s 2ms/step - loss: 0.0875 - accuracy: 0.9697\n",
            "Epoch 40/100\n",
            "55/55 [==============================] - 0s 2ms/step - loss: 0.0649 - accuracy: 0.9857\n",
            "Epoch 41/100\n",
            "55/55 [==============================] - 0s 3ms/step - loss: 0.0793 - accuracy: 0.9709\n",
            "Epoch 42/100\n",
            "55/55 [==============================] - 0s 3ms/step - loss: 0.1730 - accuracy: 0.9246\n",
            "Epoch 43/100\n",
            "55/55 [==============================] - 0s 3ms/step - loss: 0.1051 - accuracy: 0.9611\n",
            "Epoch 44/100\n",
            "55/55 [==============================] - 0s 3ms/step - loss: 0.0623 - accuracy: 0.9817\n",
            "Epoch 45/100\n",
            "55/55 [==============================] - 0s 3ms/step - loss: 0.1643 - accuracy: 0.9383\n",
            "Epoch 46/100\n",
            "55/55 [==============================] - 0s 2ms/step - loss: 0.1272 - accuracy: 0.9537\n",
            "Epoch 47/100\n",
            "55/55 [==============================] - 0s 2ms/step - loss: 0.1198 - accuracy: 0.9606\n",
            "Epoch 48/100\n",
            "55/55 [==============================] - 0s 5ms/step - loss: 0.0902 - accuracy: 0.9646\n",
            "Epoch 49/100\n",
            "55/55 [==============================] - 0s 7ms/step - loss: 0.0729 - accuracy: 0.9777\n",
            "Epoch 50/100\n",
            "55/55 [==============================] - 0s 7ms/step - loss: 0.0508 - accuracy: 0.9869\n",
            "Epoch 51/100\n",
            "55/55 [==============================] - 0s 6ms/step - loss: 0.0519 - accuracy: 0.9846\n",
            "Epoch 52/100\n",
            "55/55 [==============================] - 0s 4ms/step - loss: 0.0371 - accuracy: 0.9914\n",
            "Epoch 53/100\n",
            "55/55 [==============================] - 0s 4ms/step - loss: 0.0767 - accuracy: 0.9697\n",
            "Epoch 54/100\n",
            "55/55 [==============================] - 0s 2ms/step - loss: 0.1096 - accuracy: 0.9560\n",
            "Epoch 55/100\n",
            "55/55 [==============================] - 0s 2ms/step - loss: 0.0652 - accuracy: 0.9771\n",
            "Epoch 56/100\n",
            "55/55 [==============================] - 0s 2ms/step - loss: 0.0369 - accuracy: 0.9909\n",
            "Epoch 57/100\n",
            "55/55 [==============================] - 0s 2ms/step - loss: 0.0349 - accuracy: 0.9909\n",
            "Epoch 58/100\n",
            "55/55 [==============================] - 0s 2ms/step - loss: 0.0383 - accuracy: 0.9863\n",
            "Epoch 59/100\n",
            "55/55 [==============================] - 0s 2ms/step - loss: 0.0336 - accuracy: 0.9886\n",
            "Epoch 60/100\n",
            "55/55 [==============================] - 0s 2ms/step - loss: 0.1227 - accuracy: 0.9446\n",
            "Epoch 61/100\n",
            "55/55 [==============================] - 0s 2ms/step - loss: 0.0930 - accuracy: 0.9646\n",
            "Epoch 62/100\n",
            "55/55 [==============================] - 0s 2ms/step - loss: 0.0333 - accuracy: 0.9920\n",
            "Epoch 63/100\n",
            "55/55 [==============================] - 0s 2ms/step - loss: 0.0335 - accuracy: 0.9914\n",
            "Epoch 64/100\n",
            "55/55 [==============================] - 0s 2ms/step - loss: 0.1485 - accuracy: 0.9497\n",
            "Epoch 65/100\n",
            "55/55 [==============================] - 0s 2ms/step - loss: 0.0782 - accuracy: 0.9720\n",
            "Epoch 66/100\n",
            "55/55 [==============================] - 0s 2ms/step - loss: 0.0407 - accuracy: 0.9851\n",
            "Epoch 67/100\n",
            "55/55 [==============================] - 0s 2ms/step - loss: 0.0430 - accuracy: 0.9834\n",
            "Epoch 68/100\n",
            "55/55 [==============================] - 0s 2ms/step - loss: 0.0284 - accuracy: 0.9937\n",
            "Epoch 69/100\n",
            "55/55 [==============================] - 0s 2ms/step - loss: 0.0610 - accuracy: 0.9777\n",
            "Epoch 70/100\n",
            "55/55 [==============================] - 0s 2ms/step - loss: 0.0270 - accuracy: 0.9920\n",
            "Epoch 71/100\n",
            "55/55 [==============================] - 0s 2ms/step - loss: 0.0322 - accuracy: 0.9903\n",
            "Epoch 72/100\n",
            "55/55 [==============================] - 0s 2ms/step - loss: 0.0622 - accuracy: 0.9743\n",
            "Epoch 73/100\n",
            "55/55 [==============================] - 0s 2ms/step - loss: 0.1531 - accuracy: 0.9451\n",
            "Epoch 74/100\n",
            "55/55 [==============================] - 0s 2ms/step - loss: 0.0812 - accuracy: 0.9737\n",
            "Epoch 75/100\n",
            "55/55 [==============================] - 0s 2ms/step - loss: 0.0208 - accuracy: 0.9960\n",
            "Epoch 76/100\n",
            "55/55 [==============================] - 0s 2ms/step - loss: 0.0634 - accuracy: 0.9749\n",
            "Epoch 77/100\n",
            "55/55 [==============================] - 0s 2ms/step - loss: 0.1675 - accuracy: 0.9503\n",
            "Epoch 78/100\n",
            "55/55 [==============================] - 0s 2ms/step - loss: 0.5109 - accuracy: 0.8771\n",
            "Epoch 79/100\n",
            "55/55 [==============================] - 0s 2ms/step - loss: 0.1132 - accuracy: 0.9623\n",
            "Epoch 80/100\n",
            "55/55 [==============================] - 0s 2ms/step - loss: 0.0504 - accuracy: 0.9897\n",
            "Epoch 81/100\n",
            "55/55 [==============================] - 0s 2ms/step - loss: 0.0392 - accuracy: 0.9914\n",
            "Epoch 82/100\n",
            "55/55 [==============================] - 0s 2ms/step - loss: 0.0528 - accuracy: 0.9806\n",
            "Epoch 83/100\n",
            "55/55 [==============================] - 0s 2ms/step - loss: 0.0340 - accuracy: 0.9937\n",
            "Epoch 84/100\n",
            "55/55 [==============================] - 0s 2ms/step - loss: 0.0678 - accuracy: 0.9760\n",
            "Epoch 85/100\n",
            "55/55 [==============================] - 0s 2ms/step - loss: 0.2706 - accuracy: 0.9040\n",
            "Epoch 86/100\n",
            "55/55 [==============================] - 0s 2ms/step - loss: 0.0713 - accuracy: 0.9754\n",
            "Epoch 87/100\n",
            "55/55 [==============================] - 0s 2ms/step - loss: 0.0267 - accuracy: 0.9960\n",
            "Epoch 88/100\n",
            "55/55 [==============================] - 0s 2ms/step - loss: 0.0263 - accuracy: 0.9966\n",
            "Epoch 89/100\n",
            "55/55 [==============================] - 0s 2ms/step - loss: 0.0284 - accuracy: 0.9949\n",
            "Epoch 90/100\n",
            "55/55 [==============================] - 0s 2ms/step - loss: 0.0399 - accuracy: 0.9874\n",
            "Epoch 91/100\n",
            "55/55 [==============================] - 0s 2ms/step - loss: 0.0216 - accuracy: 0.9977\n",
            "Epoch 92/100\n",
            "55/55 [==============================] - 0s 2ms/step - loss: 0.1557 - accuracy: 0.9606\n",
            "Epoch 93/100\n",
            "55/55 [==============================] - 0s 2ms/step - loss: 0.1178 - accuracy: 0.9629\n",
            "Epoch 94/100\n",
            "55/55 [==============================] - 0s 2ms/step - loss: 0.0873 - accuracy: 0.9669\n",
            "Epoch 95/100\n",
            "55/55 [==============================] - 0s 2ms/step - loss: 0.0317 - accuracy: 0.9914\n",
            "Epoch 96/100\n",
            "55/55 [==============================] - 0s 2ms/step - loss: 0.0224 - accuracy: 0.9960\n",
            "Epoch 97/100\n",
            "55/55 [==============================] - 0s 2ms/step - loss: 0.0239 - accuracy: 0.9926\n",
            "Epoch 98/100\n",
            "55/55 [==============================] - 0s 2ms/step - loss: 0.0143 - accuracy: 0.9983\n",
            "Epoch 99/100\n",
            "55/55 [==============================] - 0s 2ms/step - loss: 0.0184 - accuracy: 0.9971\n",
            "Epoch 100/100\n",
            "55/55 [==============================] - 0s 2ms/step - loss: 0.0169 - accuracy: 0.9971\n"
          ]
        }
      ]
    },
    {
      "cell_type": "code",
      "source": [
        "dep_model.evaluate(X_test,Y_test)[1]"
      ],
      "metadata": {
        "colab": {
          "base_uri": "https://localhost:8080/"
        },
        "id": "FbvuQbl-LlkZ",
        "outputId": "338c22f7-3801-40ca-ba02-53ebf55298eb"
      },
      "execution_count": 21,
      "outputs": [
        {
          "output_type": "stream",
          "name": "stdout",
          "text": [
            "24/24 [==============================] - 0s 2ms/step - loss: 0.0340 - accuracy: 0.9920\n"
          ]
        },
        {
          "output_type": "execute_result",
          "data": {
            "text/plain": [
              "0.9919999837875366"
            ]
          },
          "metadata": {},
          "execution_count": 21
        }
      ]
    },
    {
      "cell_type": "code",
      "source": [
        "tt = np.array([[2,1,2,1,0,1,1,0,1]])"
      ],
      "metadata": {
        "id": "7C7-CNPmLtVN"
      },
      "execution_count": 24,
      "outputs": []
    },
    {
      "cell_type": "code",
      "source": [
        "pred = dep_model.predict(tt)"
      ],
      "metadata": {
        "colab": {
          "base_uri": "https://localhost:8080/"
        },
        "id": "pZRg8VcjMGzM",
        "outputId": "d517cee6-fe63-4a6b-e603-a560501e7484"
      },
      "execution_count": 26,
      "outputs": [
        {
          "output_type": "stream",
          "name": "stdout",
          "text": [
            "1/1 [==============================] - 0s 36ms/step\n"
          ]
        }
      ]
    },
    {
      "cell_type": "code",
      "source": [
        "np.argmax(pred)"
      ],
      "metadata": {
        "id": "PA5orY_9MmII"
      },
      "execution_count": null,
      "outputs": []
    },
    {
      "cell_type": "code",
      "source": [
        "import pickle"
      ],
      "metadata": {
        "id": "hnhAZnldMpQy"
      },
      "execution_count": 28,
      "outputs": []
    },
    {
      "cell_type": "code",
      "source": [
        "pickle.dump(dep_model,(open('dep_model.pkl','wb')))"
      ],
      "metadata": {
        "id": "5D-cm2j8Mul5"
      },
      "execution_count": 30,
      "outputs": []
    },
    {
      "cell_type": "code",
      "source": [
        "d_model = pickle.load(open('dep_model.pkl','rb'))\n",
        "d_model.predict(tt)"
      ],
      "metadata": {
        "colab": {
          "base_uri": "https://localhost:8080/"
        },
        "id": "QPyOvA_vM3Tz",
        "outputId": "cff93697-7bff-441f-838d-8b55550cd9dd"
      },
      "execution_count": 31,
      "outputs": [
        {
          "output_type": "stream",
          "name": "stdout",
          "text": [
            "1/1 [==============================] - 0s 97ms/step\n"
          ]
        },
        {
          "output_type": "execute_result",
          "data": {
            "text/plain": [
              "array([[4.8577560e-05, 9.9097472e-01, 8.9766905e-03, 9.3029509e-17,\n",
              "        9.5799217e-34]], dtype=float32)"
            ]
          },
          "metadata": {},
          "execution_count": 31
        }
      ]
    },
    {
      "cell_type": "code",
      "source": [],
      "metadata": {
        "id": "76ylvbfVNGRl"
      },
      "execution_count": null,
      "outputs": []
    }
  ]
}