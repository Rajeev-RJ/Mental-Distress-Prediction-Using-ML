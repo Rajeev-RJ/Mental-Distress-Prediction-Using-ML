{
  "nbformat": 4,
  "nbformat_minor": 0,
  "metadata": {
    "colab": {
      "provenance": [],
      "authorship_tag": "ABX9TyM2rZNH+MKqU6etA8q85IKd",
      "include_colab_link": true
    },
    "kernelspec": {
      "name": "python3",
      "display_name": "Python 3"
    },
    "language_info": {
      "name": "python"
    }
  },
  "cells": [
    {
      "cell_type": "markdown",
      "metadata": {
        "id": "view-in-github",
        "colab_type": "text"
      },
      "source": [
        "<a href=\"https://colab.research.google.com/github/Sudeepth-ps/Mental-Distress-Prediction-Using-ML/blob/main/Stress_Prediction.ipynb\" target=\"_parent\"><img src=\"https://colab.research.google.com/assets/colab-badge.svg\" alt=\"Open In Colab\"/></a>"
      ]
    },
    {
      "cell_type": "code",
      "execution_count": 2,
      "metadata": {
        "id": "nkFe_8CQ6niO"
      },
      "outputs": [],
      "source": [
        "import pandas as pd\n"
      ]
    },
    {
      "cell_type": "code",
      "source": [
        "df = pd.read_csv('/content/train.csv')"
      ],
      "metadata": {
        "id": "qGMm4qWp_q4o"
      },
      "execution_count": 3,
      "outputs": []
    },
    {
      "cell_type": "code",
      "source": [
        "df.drop([\"EMPLOYEE ID\",\"GENDER\"],axis=1, inplace=True)"
      ],
      "metadata": {
        "id": "mRLvSn_Gjo_E"
      },
      "execution_count": 4,
      "outputs": []
    },
    {
      "cell_type": "code",
      "source": [
        "dataset = df.values"
      ],
      "metadata": {
        "id": "HWx05mxvAVP-"
      },
      "execution_count": 5,
      "outputs": []
    },
    {
      "cell_type": "code",
      "source": [
        "dataset"
      ],
      "metadata": {
        "id": "ByDOP12fkIj0"
      },
      "execution_count": null,
      "outputs": []
    },
    {
      "cell_type": "code",
      "source": [
        "X = dataset[:,1:11]\n",
        "Y = dataset[:,11]"
      ],
      "metadata": {
        "id": "TNfdIyQVAXYO"
      },
      "execution_count": 7,
      "outputs": []
    },
    {
      "cell_type": "code",
      "source": [
        "from sklearn.model_selection import train_test_split\n",
        "\n",
        "X_train, X_test, Y_train, Y_test = train_test_split(X,Y,test_size = 0.3)\n"
      ],
      "metadata": {
        "id": "FHZlISqABJcF"
      },
      "execution_count": 8,
      "outputs": []
    },
    {
      "cell_type": "code",
      "source": [
        "from keras.models import Sequential"
      ],
      "metadata": {
        "id": "4f0E8nLHEtLd"
      },
      "execution_count": 9,
      "outputs": []
    },
    {
      "cell_type": "code",
      "source": [
        "from keras.layers import Dense"
      ],
      "metadata": {
        "id": "3NSo-69BE79y"
      },
      "execution_count": 10,
      "outputs": []
    },
    {
      "cell_type": "code",
      "source": [
        "model = Sequential([Dense(32, activation='relu',input_shape=(10,)),\n",
        "                    Dense(32,activation='relu'),\n",
        "                    Dense(3,activation='softmax'),\n",
        "                    ])"
      ],
      "metadata": {
        "id": "11zmxXFrE_g2"
      },
      "execution_count": 11,
      "outputs": []
    },
    {
      "cell_type": "code",
      "source": [
        "import tensorflow as tf\n"
      ],
      "metadata": {
        "id": "RsqpDZLaKKbK"
      },
      "execution_count": 12,
      "outputs": []
    },
    {
      "cell_type": "code",
      "source": [
        "mgd = tf.keras.optimizers.legacy.SGD(learning_rate=0.01, momentum=0.9)"
      ],
      "metadata": {
        "id": "eYkw1QFAN8ks"
      },
      "execution_count": 13,
      "outputs": []
    },
    {
      "cell_type": "code",
      "source": [
        "model.compile(optimizer=mgd,loss='sparse_categorical_crossentropy',metrics=['accuracy'])"
      ],
      "metadata": {
        "id": "zVmP4lUWH8o_"
      },
      "execution_count": 14,
      "outputs": []
    },
    {
      "cell_type": "code",
      "source": [
        "hist = model.fit(X_train,Y_train,batch_size=32,epochs=100)"
      ],
      "metadata": {
        "colab": {
          "base_uri": "https://localhost:8080/"
        },
        "id": "uQAXe51kWssZ",
        "outputId": "e03c7e6a-b9a1-44b9-8cb9-f03d6e4f061a"
      },
      "execution_count": 15,
      "outputs": [
        {
          "output_type": "stream",
          "name": "stdout",
          "text": [
            "Epoch 1/100\n",
            "55/55 [==============================] - 1s 2ms/step - loss: 0.5794 - accuracy: 0.8343\n",
            "Epoch 2/100\n",
            "55/55 [==============================] - 0s 2ms/step - loss: 0.4538 - accuracy: 0.8611\n",
            "Epoch 3/100\n",
            "55/55 [==============================] - 0s 2ms/step - loss: 0.4153 - accuracy: 0.8611\n",
            "Epoch 4/100\n",
            "55/55 [==============================] - 0s 2ms/step - loss: 0.3748 - accuracy: 0.8640\n",
            "Epoch 5/100\n",
            "55/55 [==============================] - 0s 1ms/step - loss: 0.3293 - accuracy: 0.8691\n",
            "Epoch 6/100\n",
            "55/55 [==============================] - 0s 2ms/step - loss: 0.2823 - accuracy: 0.8846\n",
            "Epoch 7/100\n",
            "55/55 [==============================] - 0s 1ms/step - loss: 0.2609 - accuracy: 0.8954\n",
            "Epoch 8/100\n",
            "55/55 [==============================] - 0s 2ms/step - loss: 0.2304 - accuracy: 0.9074\n",
            "Epoch 9/100\n",
            "55/55 [==============================] - 0s 2ms/step - loss: 0.2352 - accuracy: 0.9114\n",
            "Epoch 10/100\n",
            "55/55 [==============================] - 0s 2ms/step - loss: 0.2012 - accuracy: 0.9217\n",
            "Epoch 11/100\n",
            "55/55 [==============================] - 0s 1ms/step - loss: 0.1862 - accuracy: 0.9240\n",
            "Epoch 12/100\n",
            "55/55 [==============================] - 0s 2ms/step - loss: 0.1745 - accuracy: 0.9297\n",
            "Epoch 13/100\n",
            "55/55 [==============================] - 0s 2ms/step - loss: 0.1646 - accuracy: 0.9360\n",
            "Epoch 14/100\n",
            "55/55 [==============================] - 0s 2ms/step - loss: 0.1800 - accuracy: 0.9291\n",
            "Epoch 15/100\n",
            "55/55 [==============================] - 0s 2ms/step - loss: 0.1495 - accuracy: 0.9406\n",
            "Epoch 16/100\n",
            "55/55 [==============================] - 0s 2ms/step - loss: 0.1595 - accuracy: 0.9349\n",
            "Epoch 17/100\n",
            "55/55 [==============================] - 0s 2ms/step - loss: 0.1554 - accuracy: 0.9343\n",
            "Epoch 18/100\n",
            "55/55 [==============================] - 0s 1ms/step - loss: 0.1525 - accuracy: 0.9434\n",
            "Epoch 19/100\n",
            "55/55 [==============================] - 0s 2ms/step - loss: 0.1342 - accuracy: 0.9543\n",
            "Epoch 20/100\n",
            "55/55 [==============================] - 0s 2ms/step - loss: 0.1372 - accuracy: 0.9440\n",
            "Epoch 21/100\n",
            "55/55 [==============================] - 0s 1ms/step - loss: 0.1386 - accuracy: 0.9451\n",
            "Epoch 22/100\n",
            "55/55 [==============================] - 0s 2ms/step - loss: 0.1165 - accuracy: 0.9486\n",
            "Epoch 23/100\n",
            "55/55 [==============================] - 0s 2ms/step - loss: 0.1355 - accuracy: 0.9377\n",
            "Epoch 24/100\n",
            "55/55 [==============================] - 0s 1ms/step - loss: 0.1192 - accuracy: 0.9509\n",
            "Epoch 25/100\n",
            "55/55 [==============================] - 0s 2ms/step - loss: 0.1016 - accuracy: 0.9611\n",
            "Epoch 26/100\n",
            "55/55 [==============================] - 0s 1ms/step - loss: 0.1074 - accuracy: 0.9526\n",
            "Epoch 27/100\n",
            "55/55 [==============================] - 0s 1ms/step - loss: 0.1081 - accuracy: 0.9531\n",
            "Epoch 28/100\n",
            "55/55 [==============================] - 0s 2ms/step - loss: 0.0911 - accuracy: 0.9674\n",
            "Epoch 29/100\n",
            "55/55 [==============================] - 0s 2ms/step - loss: 0.1079 - accuracy: 0.9554\n",
            "Epoch 30/100\n",
            "55/55 [==============================] - 0s 2ms/step - loss: 0.1079 - accuracy: 0.9583\n",
            "Epoch 31/100\n",
            "55/55 [==============================] - 0s 1ms/step - loss: 0.0879 - accuracy: 0.9669\n",
            "Epoch 32/100\n",
            "55/55 [==============================] - 0s 2ms/step - loss: 0.0771 - accuracy: 0.9743\n",
            "Epoch 33/100\n",
            "55/55 [==============================] - 0s 2ms/step - loss: 0.0876 - accuracy: 0.9674\n",
            "Epoch 34/100\n",
            "55/55 [==============================] - 0s 2ms/step - loss: 0.0920 - accuracy: 0.9646\n",
            "Epoch 35/100\n",
            "55/55 [==============================] - 0s 1ms/step - loss: 0.0878 - accuracy: 0.9640\n",
            "Epoch 36/100\n",
            "55/55 [==============================] - 0s 2ms/step - loss: 0.0821 - accuracy: 0.9691\n",
            "Epoch 37/100\n",
            "55/55 [==============================] - 0s 2ms/step - loss: 0.0855 - accuracy: 0.9634\n",
            "Epoch 38/100\n",
            "55/55 [==============================] - 0s 1ms/step - loss: 0.0887 - accuracy: 0.9634\n",
            "Epoch 39/100\n",
            "55/55 [==============================] - 0s 1ms/step - loss: 0.0767 - accuracy: 0.9691\n",
            "Epoch 40/100\n",
            "55/55 [==============================] - 0s 1ms/step - loss: 0.0676 - accuracy: 0.9743\n",
            "Epoch 41/100\n",
            "55/55 [==============================] - 0s 2ms/step - loss: 0.0993 - accuracy: 0.9594\n",
            "Epoch 42/100\n",
            "55/55 [==============================] - 0s 2ms/step - loss: 0.0961 - accuracy: 0.9663\n",
            "Epoch 43/100\n",
            "55/55 [==============================] - 0s 1ms/step - loss: 0.0682 - accuracy: 0.9766\n",
            "Epoch 44/100\n",
            "55/55 [==============================] - 0s 1ms/step - loss: 0.0772 - accuracy: 0.9703\n",
            "Epoch 45/100\n",
            "55/55 [==============================] - 0s 2ms/step - loss: 0.0589 - accuracy: 0.9789\n",
            "Epoch 46/100\n",
            "55/55 [==============================] - 0s 2ms/step - loss: 0.0548 - accuracy: 0.9829\n",
            "Epoch 47/100\n",
            "55/55 [==============================] - 0s 2ms/step - loss: 0.0564 - accuracy: 0.9771\n",
            "Epoch 48/100\n",
            "55/55 [==============================] - 0s 2ms/step - loss: 0.0912 - accuracy: 0.9600\n",
            "Epoch 49/100\n",
            "55/55 [==============================] - 0s 2ms/step - loss: 0.0562 - accuracy: 0.9794\n",
            "Epoch 50/100\n",
            "55/55 [==============================] - 0s 2ms/step - loss: 0.0513 - accuracy: 0.9783\n",
            "Epoch 51/100\n",
            "55/55 [==============================] - 0s 2ms/step - loss: 0.0549 - accuracy: 0.9834\n",
            "Epoch 52/100\n",
            "55/55 [==============================] - 0s 1ms/step - loss: 0.0979 - accuracy: 0.9594\n",
            "Epoch 53/100\n",
            "55/55 [==============================] - 0s 1ms/step - loss: 0.0733 - accuracy: 0.9726\n",
            "Epoch 54/100\n",
            "55/55 [==============================] - 0s 1ms/step - loss: 0.0542 - accuracy: 0.9794\n",
            "Epoch 55/100\n",
            "55/55 [==============================] - 0s 1ms/step - loss: 0.0992 - accuracy: 0.9566\n",
            "Epoch 56/100\n",
            "55/55 [==============================] - 0s 2ms/step - loss: 0.0898 - accuracy: 0.9651\n",
            "Epoch 57/100\n",
            "55/55 [==============================] - 0s 1ms/step - loss: 0.0789 - accuracy: 0.9651\n",
            "Epoch 58/100\n",
            "55/55 [==============================] - 0s 2ms/step - loss: 0.0660 - accuracy: 0.9749\n",
            "Epoch 59/100\n",
            "55/55 [==============================] - 0s 2ms/step - loss: 0.0504 - accuracy: 0.9840\n",
            "Epoch 60/100\n",
            "55/55 [==============================] - 0s 2ms/step - loss: 0.0761 - accuracy: 0.9703\n",
            "Epoch 61/100\n",
            "55/55 [==============================] - 0s 1ms/step - loss: 0.0695 - accuracy: 0.9674\n",
            "Epoch 62/100\n",
            "55/55 [==============================] - 0s 2ms/step - loss: 0.0603 - accuracy: 0.9737\n",
            "Epoch 63/100\n",
            "55/55 [==============================] - 0s 2ms/step - loss: 0.0518 - accuracy: 0.9817\n",
            "Epoch 64/100\n",
            "55/55 [==============================] - 0s 2ms/step - loss: 0.0373 - accuracy: 0.9874\n",
            "Epoch 65/100\n",
            "55/55 [==============================] - 0s 2ms/step - loss: 0.1425 - accuracy: 0.9469\n",
            "Epoch 66/100\n",
            "55/55 [==============================] - 0s 1ms/step - loss: 0.0668 - accuracy: 0.9714\n",
            "Epoch 67/100\n",
            "55/55 [==============================] - 0s 2ms/step - loss: 0.0431 - accuracy: 0.9834\n",
            "Epoch 68/100\n",
            "55/55 [==============================] - 0s 2ms/step - loss: 0.1173 - accuracy: 0.9577\n",
            "Epoch 69/100\n",
            "55/55 [==============================] - 0s 1ms/step - loss: 0.1550 - accuracy: 0.9423\n",
            "Epoch 70/100\n",
            "55/55 [==============================] - 0s 1ms/step - loss: 0.0425 - accuracy: 0.9863\n",
            "Epoch 71/100\n",
            "55/55 [==============================] - 0s 2ms/step - loss: 0.0439 - accuracy: 0.9840\n",
            "Epoch 72/100\n",
            "55/55 [==============================] - 0s 2ms/step - loss: 0.0499 - accuracy: 0.9806\n",
            "Epoch 73/100\n",
            "55/55 [==============================] - 0s 2ms/step - loss: 0.0668 - accuracy: 0.9703\n",
            "Epoch 74/100\n",
            "55/55 [==============================] - 0s 2ms/step - loss: 0.0562 - accuracy: 0.9771\n",
            "Epoch 75/100\n",
            "55/55 [==============================] - 0s 2ms/step - loss: 0.0423 - accuracy: 0.9817\n",
            "Epoch 76/100\n",
            "55/55 [==============================] - 0s 2ms/step - loss: 0.0555 - accuracy: 0.9771\n",
            "Epoch 77/100\n",
            "55/55 [==============================] - 0s 1ms/step - loss: 0.0495 - accuracy: 0.9789\n",
            "Epoch 78/100\n",
            "55/55 [==============================] - 0s 1ms/step - loss: 0.0417 - accuracy: 0.9869\n",
            "Epoch 79/100\n",
            "55/55 [==============================] - 0s 2ms/step - loss: 0.0399 - accuracy: 0.9823\n",
            "Epoch 80/100\n",
            "55/55 [==============================] - 0s 2ms/step - loss: 0.0536 - accuracy: 0.9794\n",
            "Epoch 81/100\n",
            "55/55 [==============================] - 0s 2ms/step - loss: 0.0430 - accuracy: 0.9863\n",
            "Epoch 82/100\n",
            "55/55 [==============================] - 0s 2ms/step - loss: 0.0381 - accuracy: 0.9874\n",
            "Epoch 83/100\n",
            "55/55 [==============================] - 0s 2ms/step - loss: 0.0454 - accuracy: 0.9817\n",
            "Epoch 84/100\n",
            "55/55 [==============================] - 0s 2ms/step - loss: 0.0530 - accuracy: 0.9806\n",
            "Epoch 85/100\n",
            "55/55 [==============================] - 0s 2ms/step - loss: 0.0371 - accuracy: 0.9869\n",
            "Epoch 86/100\n",
            "55/55 [==============================] - 0s 2ms/step - loss: 0.0277 - accuracy: 0.9914\n",
            "Epoch 87/100\n",
            "55/55 [==============================] - 0s 2ms/step - loss: 0.0323 - accuracy: 0.9880\n",
            "Epoch 88/100\n",
            "55/55 [==============================] - 0s 2ms/step - loss: 0.0300 - accuracy: 0.9897\n",
            "Epoch 89/100\n",
            "55/55 [==============================] - 0s 2ms/step - loss: 0.0336 - accuracy: 0.9880\n",
            "Epoch 90/100\n",
            "55/55 [==============================] - 0s 2ms/step - loss: 0.0292 - accuracy: 0.9914\n",
            "Epoch 91/100\n",
            "55/55 [==============================] - 0s 2ms/step - loss: 0.0284 - accuracy: 0.9897\n",
            "Epoch 92/100\n",
            "55/55 [==============================] - 0s 2ms/step - loss: 0.0501 - accuracy: 0.9777\n",
            "Epoch 93/100\n",
            "55/55 [==============================] - 0s 2ms/step - loss: 0.0307 - accuracy: 0.9897\n",
            "Epoch 94/100\n",
            "55/55 [==============================] - 0s 2ms/step - loss: 0.0327 - accuracy: 0.9874\n",
            "Epoch 95/100\n",
            "55/55 [==============================] - 0s 2ms/step - loss: 0.0504 - accuracy: 0.9783\n",
            "Epoch 96/100\n",
            "55/55 [==============================] - 0s 2ms/step - loss: 0.0372 - accuracy: 0.9874\n",
            "Epoch 97/100\n",
            "55/55 [==============================] - 0s 2ms/step - loss: 0.0353 - accuracy: 0.9874\n",
            "Epoch 98/100\n",
            "55/55 [==============================] - 0s 2ms/step - loss: 0.0339 - accuracy: 0.9880\n",
            "Epoch 99/100\n",
            "55/55 [==============================] - 0s 2ms/step - loss: 0.0273 - accuracy: 0.9926\n",
            "Epoch 100/100\n",
            "55/55 [==============================] - 0s 2ms/step - loss: 0.0280 - accuracy: 0.9909\n"
          ]
        }
      ]
    },
    {
      "cell_type": "code",
      "source": [
        "model.evaluate(X_test,Y_test)[1]"
      ],
      "metadata": {
        "colab": {
          "base_uri": "https://localhost:8080/"
        },
        "id": "XMgy5rFT3kuA",
        "outputId": "18b3a011-8f2b-430c-eea5-5e601932b50f"
      },
      "execution_count": 16,
      "outputs": [
        {
          "output_type": "stream",
          "name": "stdout",
          "text": [
            "24/24 [==============================] - 0s 1ms/step - loss: 0.1504 - accuracy: 0.9441\n"
          ]
        },
        {
          "output_type": "execute_result",
          "data": {
            "text/plain": [
              "0.9440745711326599"
            ]
          },
          "metadata": {},
          "execution_count": 16
        }
      ]
    },
    {
      "cell_type": "code",
      "source": [
        "print(\"Generating a prediction\")\n",
        "pred = model.predict(X_test[3:4])\n",
        "print(\"prediction shape:\",pred.shape)"
      ],
      "metadata": {
        "colab": {
          "base_uri": "https://localhost:8080/"
        },
        "id": "Np9F5W5r35Ko",
        "outputId": "9028ab2b-8225-4851-a2a4-14cddee92a16"
      },
      "execution_count": 91,
      "outputs": [
        {
          "output_type": "stream",
          "name": "stdout",
          "text": [
            "Generating a prediction\n",
            "1/1 [==============================] - 0s 29ms/step\n",
            "prediction shape: (1, 3)\n"
          ]
        }
      ]
    }
  ]
}